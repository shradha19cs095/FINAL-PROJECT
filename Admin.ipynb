{
 "cells": [
  {
   "cell_type": "code",
   "execution_count": null,
   "id": "3495b0d1",
   "metadata": {},
   "outputs": [
    {
     "name": "stdout",
     "output_type": "stream",
     "text": [
      "Enter food name : Tandoori chicken\n",
      "Enter food quantity : 4\n",
      "Enter food price : 240\n",
      "Enter food stock : 50\n",
      "Enter food discount : 5\n",
      "{1: {'Food name': 'Tandoori chicken', 'Food quantity': 4, 'Food price': 240, 'Food stock': 240, 'Food discount': 5}}\n",
      "Enter food name : Burger\n",
      "Enter food quantity : 4\n",
      "Enter food price : 320\n",
      "Enter food stock : 320\n",
      "Enter food discount : 5\n",
      "{1: {'Food name': 'Tandoori chicken', 'Food quantity': 4, 'Food price': 240, 'Food stock': 240, 'Food discount': 5}, 2: {'Food name': 'Burger', 'Food quantity': 4, 'Food price': 320, 'Food stock': 320, 'Food discount': 5}}\n",
      "Enter food name : Truffle cake\n",
      "Enter food quantity : 1\n",
      "Enter food price : 900\n",
      "Enter food stock : 900\n",
      "Enter food discount : 5\n",
      "{1: {'Food name': 'Tandoori chicken', 'Food quantity': 4, 'Food price': 240, 'Food stock': 240, 'Food discount': 5}, 2: {'Food name': 'Burger', 'Food quantity': 4, 'Food price': 320, 'Food stock': 320, 'Food discount': 5}, 3: {'Food name': 'Truffle cake', 'Food quantity': 1, 'Food price': 900, 'Food stock': 900, 'Food discount': 5}}\n"
     ]
    }
   ],
   "source": [
    "#Admin\n",
    "\n",
    "import json\n",
    "class Admin:\n",
    "    def __init__(self):\n",
    "        self.food_item={ }\n",
    "        self.food_id=len(self.food_item)+1\n",
    "    def add_new_food_item(self):\n",
    "        self.name=input(\"Enter food name : \")\n",
    "        self.quantity=int(input(\"Enter food quantity : \"))\n",
    "        self.price=int(input(\"Enter food price : \"))\n",
    "        self.stock=int(input(\"Enter food stock : \"))\n",
    "        self.discount=int(input(\"Enter food discount : \"))\n",
    "        self.item = {\"Food name\":self.name,\"Food quantity\":self.quantity,\"Food price\":self.price,\"Food stock\":self.price,\"Food discount\":self.discount}\n",
    "        self.food_id=len(self.food_item)+1\n",
    "        self.food_item[self.food_id]=self.item\n",
    "        with open(\"Food_item.json\",\"w\") as f:\n",
    "            json.dump(self.food_item,f)\n",
    "        return self.food_item\n",
    "    \n",
    "    def view_food_item(self):\n",
    "        return(list(self.food_item.items()))\n",
    "    def edit_food_item(self):\n",
    "        self.food_item[1][\"Food name\"]=\"Tandoori chicken\"\n",
    "        self.food_item[1][\"Food quantity\"]=\"4\"\n",
    "        self.food_item[1][\"Food price\"]=\"240\"\n",
    "        self.food_item[1][\"Food stock\"]=\"50\"\n",
    "        self.food_item[1][\"Food discount\"]=\"5\"\n",
    "        return(self.food_item)\n",
    "    \n",
    "    def remove_food_item(self):\n",
    "        food_item = int(input(\"Enter the food item : \"))\n",
    "        del self.food_item[food_item]\n",
    "        print(\"Remaining food item is : \",self.food_item)\n",
    "        with open(\"Food_item.json\",\"w\") as f:\n",
    "            json.dump(self.food_item,f)\n",
    "        return self.food_item\n",
    "\n",
    "c=Admin()\n",
    "print(c.add_new_food_item())\n",
    "print(c.add_new_food_item())\n",
    "print(c.add_new_food_item())\n",
    "print(c.add_new_food_item())\n",
    "\n",
    "print(\"*\"*100)\n",
    "print(\"List of food items : \",c.view_food_item())\n",
    "print(\"*\"*100)\n",
    "print(c.edit_food_item())\n",
    "print(\"*\"*100)\n",
    "print(\"List of food items : \",c.view_food_item())\n",
    "print(\"*\"*100)\n",
    "print(c.remove_food_item())\n",
    "print(\"Remaining food item is : \",c.view_food_item())"
   ]
  },
  {
   "cell_type": "code",
   "execution_count": null,
   "id": "95bc3e19",
   "metadata": {},
   "outputs": [],
   "source": []
  }
 ],
 "metadata": {
  "kernelspec": {
   "display_name": "Python 3 (ipykernel)",
   "language": "python",
   "name": "python3"
  },
  "language_info": {
   "codemirror_mode": {
    "name": "ipython",
    "version": 3
   },
   "file_extension": ".py",
   "mimetype": "text/x-python",
   "name": "python",
   "nbconvert_exporter": "python",
   "pygments_lexer": "ipython3",
   "version": "3.10.9"
  }
 },
 "nbformat": 4,
 "nbformat_minor": 5
}
