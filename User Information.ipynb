{
 "cells": [
  {
   "cell_type": "code",
   "execution_count": 1,
   "id": "0e7f01a8",
   "metadata": {},
   "outputs": [
    {
     "data": {
      "text/plain": [
       "{'1': {'User name': 'Shradha',\n",
       "  'phone number': '7337647604',\n",
       "  'Email id': 'shradhak901@gmail.com',\n",
       "  'Address': 'Bangalore',\n",
       "  'Password': 'shr000100'}}"
      ]
     },
     "execution_count": 1,
     "metadata": {},
     "output_type": "execute_result"
    }
   ],
   "source": [
    "#User Information\n",
    "\n",
    "{\n",
    "  \"1\": {\n",
    "    \"User name\": \"Shradha\",\n",
    "    \"phone number\":\"7337647604\",\n",
    "    \"Email id\": \"shradhak901@gmail.com\",\n",
    "    \"Address\": \"Bangalore\",\n",
    "    \"Password\": \"shr000100\"\n",
    "  }\n",
    "}\n",
    "{\"1\": {\"User name\": \"Shradha\", \"phone number\": \"7337647604\", \"Email id\": \"shradhak901@gmail.com\", \"Address\": \"Bangalore\", \"Password\": \"shr000100\"}}"
   ]
  },
  {
   "cell_type": "code",
   "execution_count": null,
   "id": "85a56c84",
   "metadata": {},
   "outputs": [],
   "source": []
  }
 ],
 "metadata": {
  "kernelspec": {
   "display_name": "Python 3 (ipykernel)",
   "language": "python",
   "name": "python3"
  },
  "language_info": {
   "codemirror_mode": {
    "name": "ipython",
    "version": 3
   },
   "file_extension": ".py",
   "mimetype": "text/x-python",
   "name": "python",
   "nbconvert_exporter": "python",
   "pygments_lexer": "ipython3",
   "version": "3.10.9"
  }
 },
 "nbformat": 4,
 "nbformat_minor": 5
}
