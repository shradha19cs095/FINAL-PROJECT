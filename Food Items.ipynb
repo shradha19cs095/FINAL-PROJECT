{
 "cells": [
  {
   "cell_type": "code",
   "execution_count": 1,
   "id": "c3b50758",
   "metadata": {},
   "outputs": [
    {
     "data": {
      "text/plain": [
       "{'1': {'Food name': 'Tandoori chicken',\n",
       "  'Food quantity': '4',\n",
       "  'Food price': '240',\n",
       "  'Food stock': '50',\n",
       "  'Food discount': '5'},\n",
       " '2': {'Food name': 'Burger',\n",
       "  'Food quantity': 4,\n",
       "  'Food price': 320,\n",
       "  'Food stock': 320,\n",
       "  'Food discount': 5},\n",
       " '3': {'Food name': 'Truffle cake',\n",
       "  'Food quantity': 1,\n",
       "  'Food price': 900,\n",
       "  'Food stock': 900,\n",
       "  'Food discount': 5}}"
      ]
     },
     "execution_count": 1,
     "metadata": {},
     "output_type": "execute_result"
    }
   ],
   "source": [
    "#Food Items\n",
    "{\"1\": {\"Food name\": \"Tandoori chicken\", \"Food quantity\": \"4\", \"Food price\": \"240\", \"Food stock\": \"50\", \"Food discount\": \"5\"}, \"2\": {\"Food name\": \"Burger\", \"Food quantity\": 4, \"Food price\": 320, \"Food stock\": 320, \"Food discount\": 5}, \"3\": {\"Food name\": \"Truffle cake\", \"Food quantity\": 1, \"Food price\": 900, \"Food stock\": 900, \"Food discount\": 5}}\n"
   ]
  },
  {
   "cell_type": "code",
   "execution_count": null,
   "id": "5521c3e0",
   "metadata": {},
   "outputs": [],
   "source": []
  }
 ],
 "metadata": {
  "kernelspec": {
   "display_name": "Python 3 (ipykernel)",
   "language": "python",
   "name": "python3"
  },
  "language_info": {
   "codemirror_mode": {
    "name": "ipython",
    "version": 3
   },
   "file_extension": ".py",
   "mimetype": "text/x-python",
   "name": "python",
   "nbconvert_exporter": "python",
   "pygments_lexer": "ipython3",
   "version": "3.10.9"
  }
 },
 "nbformat": 4,
 "nbformat_minor": 5
}
